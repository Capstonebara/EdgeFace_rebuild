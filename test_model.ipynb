{
 "cells": [
  {
   "cell_type": "code",
   "execution_count": 1,
   "metadata": {},
   "outputs": [],
   "source": [
    "import torch"
   ]
  },
  {
   "cell_type": "code",
   "execution_count": 2,
   "metadata": {},
   "outputs": [],
   "source": [
    "# Function to calculate parameters\n",
    "def count_parameters(model):\n",
    "    total_params = sum(p.numel() for p in model.parameters())\n",
    "    trainable_params = sum(p.numel() for p in model.parameters() if p.requires_grad)\n",
    "    return total_params, trainable_params"
   ]
  },
  {
   "cell_type": "code",
   "execution_count": null,
   "metadata": {},
   "outputs": [
    {
     "name": "stdout",
     "output_type": "stream",
     "text": [
      "EdgeFace-XS Total Parameters: 1769424, Trainable: 1769424\n",
      "EdgeNeXt-S Total Parameters: 3650840, Trainable: 3650840\n"
     ]
    },
    {
     "name": "stderr",
     "output_type": "stream",
     "text": [
      "/home/nhomnhom0/miniforge3/envs/face_recognition/lib/python3.9/site-packages/timm/models/layers/__init__.py:48: FutureWarning: Importing from timm.models.layers is deprecated, please import via timm.layers\n",
      "  warnings.warn(f\"Importing from {__name__} is deprecated, please import via timm.layers\", FutureWarning)\n",
      "/home/nhomnhom0/miniforge3/envs/face_recognition/lib/python3.9/site-packages/timm/models/registry.py:4: FutureWarning: Importing from timm.models.registry is deprecated, please import via timm.models\n",
      "  warnings.warn(f\"Importing from {__name__} is deprecated, please import via timm.models\", FutureWarning)\n"
     ]
    }
   ],
   "source": [
    "from models.architectures import edgeface_s, edgeface_xs\n",
    "# Instantiate the models\n",
    "model_x_small = edgeface_xs(pretrained=False, classifier_dropout=0.0)\n",
    "model_small = edgeface_s(pretrained=False, classifier_dropout=0.0)\n",
    "\n",
    "# Get the parameters\n",
    "x_small_total, x_small_trainable = count_parameters(model_x_small)\n",
    "small_total, small_trainable = count_parameters(model_small)\n",
    "\n",
    "# Print the results\n",
    "print(f\"EdgeFace-XS Total Parameters: {x_small_total}, Trainable: {x_small_trainable}\")\n",
    "print(f\"EdgeNeXt-S Total Parameters: {small_total}, Trainable: {small_trainable}\")"
   ]
  }
 ],
 "metadata": {
  "kernelspec": {
   "display_name": "face_recognition",
   "language": "python",
   "name": "python3"
  },
  "language_info": {
   "codemirror_mode": {
    "name": "ipython",
    "version": 3
   },
   "file_extension": ".py",
   "mimetype": "text/x-python",
   "name": "python",
   "nbconvert_exporter": "python",
   "pygments_lexer": "ipython3",
   "version": "3.9.21"
  }
 },
 "nbformat": 4,
 "nbformat_minor": 2
}
